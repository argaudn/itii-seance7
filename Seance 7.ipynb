#Impossible de lancer jupiter notebook
#Exercice 1 
#without numpy
X = [[12,7,3],
    [4 ,5,6],
    [7 ,8,9]]

Y = [[5,8,1],
    [6,7,3],
    [4,5,9]]

result = [[0,0,0],
         [0,0,0],
         [0,0,0]]

# iterate through rows
for i in range(len(X)):
   # iterate through columns
   for j in range(len(X[0])):
       result[i][j] = X[i][j] + Y[i][j]

for r in result:
   print(r)

#Deuxième version
#Avec Numpy
import numpy as np
 
A = np.array([ [3, 1, 5], [9, 8, -1], [10, 12, 2] ])
B = np.array([ [8, -1, 8], [2, 1, 3], [18, 2, 32] ])
 
C = A.dot(B)
 
print("A : ", A)
print("B : ", B)
print("A * B : ", C)
