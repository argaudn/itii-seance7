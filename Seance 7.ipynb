#Impossible de lancer jupiter notebook
#Exercice 1 
#without numpy
X = [[12,7,3],
    [4 ,5,6],
    [7 ,8,9]]

Y = [[5,8,1],
    [6,7,3],
    [4,5,9]]

result = [[0,0,0],
         [0,0,0],
         [0,0,0]]

# iterate through rows
for i in range(len(X)):
   # iterate through columns
   for j in range(len(X[0])):
       result[i][j] = X[i][j] + Y[i][j]

for r in result:
   print(r)

#Deuxième version
#Avec Numpy
import numpy as np
 
A = np.array([ [3, 1, 5], [9, 8, -1], [10, 12, 2] ])
B = np.array([ [8, -1, 8], [2, 1, 3], [18, 2, 32] ])
 
C = A.dot(B)
 
print("A : ", A)
print("B : ", B)
print("A * B : ", C)

##############################

def eststochastique(P):
    nl = len(P)  
    nc = len(P[0])  
 
    etat = True  
    for i in range(nl):
        s = 0
        for j in range(nc):
            s += P[i][j]
        if s > 1:
            etat = False
            break
    return etat
 
 
def estbistochastique(P):
    nl = len(P)  
    nc = len(P[0])  
 
    etat = True 
    if(eststochastique(P)):
        for j in range(nc):
            s = 0
            for i in range(nl):
                s += P[i][j]
            if s > 1:
                etat = False
                break
    return etat
 
 
def vecteurstable(G, h):
    nl = len(G)  
    nc = len(G[0])  
    etat = True
    if(eststochastique(G)):
        for j in range(nc):
            s = 0
            for i in range(nl):
                s += h[i]*G[i][j]
            if s != h[j]:
                etat = False
                break
    else:
        etat = False
    return etat

#Exercice 4 
import numpy as np
 
A = np.array([ [3, 1, 5], [9, 8, -1], [18, 12, 2] ])
 
C = A.transpose()
 
print("A : ", A)
print("Transposée de A : ", C)
